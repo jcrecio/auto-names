{
 "cells": [
  {
   "cell_type": "code",
   "execution_count": 2,
   "metadata": {},
   "outputs": [],
   "source": [
    "import os\n",
    "import json\n",
    "import openai\n",
    "import requests\n",
    "from tenacity import retry, wait_random_exponential, stop_after_attempt\n",
    "from termcolor import colored\n",
    "\n",
    "GPT_MODEL = \"gpt-4\""
   ]
  },
  {
   "cell_type": "code",
   "execution_count": 8,
   "metadata": {},
   "outputs": [],
   "source": [
    "@retry(wait=wait_random_exponential(multiplier=1, max=40), stop=stop_after_attempt(3))\n",
    "def chat_completion_request(messages, functions=None, function_call=None, model=GPT_MODEL):\n",
    "    headers = {\n",
    "        \"Content-Type\": \"application/json\",\n",
    "        \"Authorization\": \"Bearer \" + os.getenv('OPEN_AI_KEY'),\n",
    "    }\n",
    "    json_data = {\"model\": model, \"messages\": messages}\n",
    "    if functions is not None:\n",
    "        json_data.update({\"functions\": functions})\n",
    "    if function_call is not None:\n",
    "        json_data.update({\"function_call\": function_call})\n",
    "    try:\n",
    "        response = requests.post(\n",
    "            \"https://api.openai.com/v1/chat/completions\",\n",
    "            headers=headers,\n",
    "            json=json_data,\n",
    "        )\n",
    "        return response\n",
    "    except Exception as e:\n",
    "        print(\"Unable to generate ChatCompletion response\")\n",
    "        print(f\"Exception: {e}\")\n",
    "        return e"
   ]
  },
  {
   "cell_type": "code",
   "execution_count": 5,
   "metadata": {},
   "outputs": [],
   "source": [
    "def pretty_print_conversation(messages):\n",
    "    role_to_color = {\n",
    "        \"system\": \"red\",\n",
    "        \"user\": \"green\",\n",
    "        \"assistant\": \"blue\",\n",
    "        \"function\": \"magenta\",\n",
    "    }\n",
    "    \n",
    "    for message in messages:\n",
    "        if message[\"role\"] == \"system\":\n",
    "            print(colored(f\"system: {message['content']}\\n\", role_to_color[message[\"role\"]]))\n",
    "        elif message[\"role\"] == \"user\":\n",
    "            print(colored(f\"user: {message['content']}\\n\", role_to_color[message[\"role\"]]))\n",
    "        elif message[\"role\"] == \"assistant\" and message.get(\"function_call\"):\n",
    "            print(colored(f\"assistant: {message['function_call']}\\n\", role_to_color[message[\"role\"]]))\n",
    "        elif message[\"role\"] == \"assistant\" and not message.get(\"function_call\"):\n",
    "            print(colored(f\"assistant: {message['content']}\\n\", role_to_color[message[\"role\"]]))\n",
    "        elif message[\"role\"] == \"function\":\n",
    "            print(colored(f\"function ({message['name']}): {message['content']}\\n\", role_to_color[message[\"role\"]]))"
   ]
  },
  {
   "cell_type": "code",
   "execution_count": 13,
   "metadata": {},
   "outputs": [],
   "source": [
    "functions = [\n",
    "    {\n",
    "        \"name\": \"get_method_name\",\n",
    "        \"description\": \"Get a method name\",\n",
    "        \"parameters\": {\n",
    "            \"type\": \"object\",\n",
    "            \"properties\": {\n",
    "                \"method_content\": {\n",
    "                    \"type\": \"string\",\n",
    "                    \"description\": \"The method code\",\n",
    "                }\n",
    "            },\n",
    "            \"required\": [\"method_content\"],\n",
    "        },\n",
    "    }\n",
    "]"
   ]
  },
  {
   "cell_type": "code",
   "execution_count": 14,
   "metadata": {},
   "outputs": [
    {
     "data": {
      "text/plain": [
       "{'id': 'chatcmpl-7diIvrlYWporejoXbCncnxp3ZbR9V',\n",
       " 'object': 'chat.completion',\n",
       " 'created': 1689699453,\n",
       " 'model': 'gpt-4-0613',\n",
       " 'choices': [{'index': 0,\n",
       "   'message': {'role': 'assistant',\n",
       "    'content': \"I'm sorry for the confusion, but could you please provide more details? Are you asking about a specific type of Java method or do you want a general Java method example? Your question is a bit ambiguous, and additional details would help to give a more accurate response.\"},\n",
       "   'finish_reason': 'stop'}],\n",
       " 'usage': {'prompt_tokens': 83, 'completion_tokens': 55, 'total_tokens': 138}}"
      ]
     },
     "execution_count": 14,
     "metadata": {},
     "output_type": "execute_result"
    }
   ],
   "source": [
    "messages = []\n",
    "messages.append({\"role\": \"system\", \"content\": \"Don't make assumptions about what values to plug into functions. Ask for clarification if a user request is ambiguous.\"})\n",
    "messages.append({\"role\": \"user\", \"content\": \"What is a good candidate for the java method?\"})\n",
    "chat_response = chat_completion_request(\n",
    "    messages, functions=functions\n",
    ")\n",
    "assistant_message = chat_response.json()[\"choices\"][0][\"message\"]\n",
    "messages.append(assistant_message)\n",
    "assistant_message"
   ]
  },
  {
   "cell_type": "code",
   "execution_count": 16,
   "metadata": {},
   "outputs": [
    {
     "data": {
      "text/plain": [
       "{'role': 'assistant',\n",
       " 'content': None,\n",
       " 'function_call': {'name': 'get_method_name',\n",
       "  'arguments': '{\\n\"method_content\": \"/** \\\\n* Compile all of the compilable panes that\\'re opened.\\\\n* @param message if it should send a message saying it\\'s compiled sucessfully.\\\\n* @return true if no errors, false if it failed to compile.\\\\n*/\\\\npublic static boolean compile(boolean message,boolean successAlert){\\\\nBytecodeViewer.updateBusyStatus(true);\\\\nboolean noErrors=true;\\\\nboolean actuallyTried=false;\\\\nfor ( java.awt.Component c : BytecodeViewer.viewer.workPane.getLoadedViewers()) {\\\\nif (c instanceof ClassViewer) {\\\\nClassViewer cv=(ClassViewer)c;\\\\nif (noErrors && !cv.bytecodeViewPanel1.compile()) noErrors=false;\\\\nif (noErrors && !cv.bytecodeViewPanel2.compile()) noErrors=false;\\\\nif (noErrors && !cv.bytecodeViewPanel3.compile()) noErrors=false;\\\\nactuallyTried=compile_extraction_2(actuallyTried,cv);\\\\nif (cv.bytecodeViewPanel3.textArea != null && cv.bytecodeViewPanel3.textArea.isEditable()) actuallyTried=true;\\\\n}\\\\n}\\\\nif (message) {\\\\nif (actuallyTried) {\\\\nif (noErrors && successAlert) BytecodeViewer.showMessage(\\\\\"Compiled Successfully.\\\\\");\\\\n}\\\\nelse {\\\\nBytecodeViewer.showMessage(\\\\\"You have no editable panes opened, make one editable and try again.\\\\\");\\\\n}\\\\n}\\\\nBytecodeViewer.updateBusyStatus(false);\\\\nreturn true;\\\\n}\"\\n}'}}"
      ]
     },
     "execution_count": 16,
     "metadata": {},
     "output_type": "execute_result"
    }
   ],
   "source": [
    "messages.append({\"role\": \"user\", \"content\": ''' \n",
    "/** \n",
    " * Compile all of the compilable panes that're opened.\n",
    " * @param message if it should send a message saying it's compiled sucessfully.\n",
    " * @return true if no errors, false if it failed to compile.\n",
    " */\n",
    "public static boolean compile(boolean message,boolean successAlert){\n",
    "  BytecodeViewer.updateBusyStatus(true);\n",
    "  boolean noErrors=true;\n",
    "  boolean actuallyTried=false;\n",
    "  for (  java.awt.Component c : BytecodeViewer.viewer.workPane.getLoadedViewers()) {\n",
    "    if (c instanceof ClassViewer) {\n",
    "      ClassViewer cv=(ClassViewer)c;\n",
    "      if (noErrors && !cv.bytecodeViewPanel1.compile())       noErrors=false;\n",
    "      if (noErrors && !cv.bytecodeViewPanel2.compile())       noErrors=false;\n",
    "      if (noErrors && !cv.bytecodeViewPanel3.compile())       noErrors=false;\n",
    "      actuallyTried=compile_extraction_2(actuallyTried,cv);\n",
    "      if (cv.bytecodeViewPanel3.textArea != null && cv.bytecodeViewPanel3.textArea.isEditable())       actuallyTried=true;\n",
    "    }\n",
    "  }\n",
    "  if (message) {\n",
    "    if (actuallyTried) {\n",
    "      if (noErrors && successAlert)       BytecodeViewer.showMessage(\"Compiled Successfully.\");\n",
    "    }\n",
    " else {\n",
    "      BytecodeViewer.showMessage(\"You have no editable panes opened, make one editable and try again.\");\n",
    "    }\n",
    "  }\n",
    "  BytecodeViewer.updateBusyStatus(false);\n",
    "  return true;\n",
    "}'''})\n",
    "chat_response = chat_completion_request(\n",
    "    messages, functions=functions\n",
    ")\n",
    "assistant_message = chat_response.json()[\"choices\"][0][\"message\"]\n",
    "messages.append(assistant_message)\n",
    "assistant_message"
   ]
  },
  {
   "cell_type": "code",
   "execution_count": 17,
   "metadata": {},
   "outputs": [
    {
     "data": {
      "text/plain": [
       "{'id': 'chatcmpl-7diKTl1hFvcC5c5mi7FxwDEvdvb8e',\n",
       " 'object': 'chat.completion',\n",
       " 'created': 1689699549,\n",
       " 'model': 'gpt-4-0613',\n",
       " 'choices': [{'index': 0,\n",
       "   'message': {'role': 'assistant',\n",
       "    'content': None,\n",
       "    'function_call': {'name': 'get_method_name',\n",
       "     'arguments': '{\\n\"method_content\": \"/** \\\\n* Compile all of the compilable panes that\\'re opened.\\\\n* @param message if it should send a message saying it\\'s compiled sucessfully.\\\\n* @return true if no errors, false if it failed to compile.\\\\n*/\\\\npublic static boolean compile(boolean message,boolean successAlert){\\\\nBytecodeViewer.updateBusyStatus(true);\\\\nboolean noErrors=true;\\\\nboolean actuallyTried=false;\\\\nfor ( java.awt.Component c : BytecodeViewer.viewer.workPane.getLoadedViewers()) {\\\\nif (c instanceof ClassViewer) {\\\\nClassViewer cv=(ClassViewer)c;\\\\nif (noErrors && !cv.bytecodeViewPanel1.compile()) noErrors=false;\\\\nif (noErrors && !cv.bytecodeViewPanel2.compile()) noErrors=false;\\\\nif (noErrors && !cv.bytecodeViewPanel3.compile()) noErrors=false;\\\\nactuallyTried=compile_extraction_2(actuallyTried,cv);\\\\nif (cv.bytecodeViewPanel3.textArea != null && cv.bytecodeViewPanel3.textArea.isEditable()) actuallyTried=true;\\\\n}\\\\n}\\\\nif (message) {\\\\nif (actuallyTried) {\\\\nif (noErrors && successAlert) BytecodeViewer.showMessage(\\\\\"Compiled Successfully.\\\\\");\\\\n}\\\\nelse {\\\\nBytecodeViewer.showMessage(\\\\\"You have no editable panes opened, make one editable and try again.\\\\\");\\\\n}\\\\n}\\\\nBytecodeViewer.updateBusyStatus(false);\\\\nreturn true;\\\\n}\"\\n}'}},\n",
       "   'finish_reason': 'function_call'}],\n",
       " 'usage': {'prompt_tokens': 451,\n",
       "  'completion_tokens': 326,\n",
       "  'total_tokens': 777}}"
      ]
     },
     "execution_count": 17,
     "metadata": {},
     "output_type": "execute_result"
    }
   ],
   "source": [
    "chat_response.json()"
   ]
  }
 ],
 "metadata": {
  "kernelspec": {
   "display_name": "auto-names-MzIor_7--py3.10",
   "language": "python",
   "name": "python3"
  },
  "language_info": {
   "codemirror_mode": {
    "name": "ipython",
    "version": 3
   },
   "file_extension": ".py",
   "mimetype": "text/x-python",
   "name": "python",
   "nbconvert_exporter": "python",
   "pygments_lexer": "ipython3",
   "version": "3.10.6"
  },
  "orig_nbformat": 4
 },
 "nbformat": 4,
 "nbformat_minor": 2
}
